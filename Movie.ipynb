{
 "cells": [
  {
   "cell_type": "code",
   "execution_count": 1,
   "metadata": {},
   "outputs": [],
   "source": [
    "import cv2\n",
    "import os \n",
    "\n",
    "save_dir = os.path.join(os.curdir, \"Image\")\n",
    "try:\n",
    "    os.mkdir(save_dir)\n",
    "except Exception as e:\n",
    "    pass\n",
    "\n",
    "# vidcap = cv2.VideoCapture('footage.mp4')\n",
    "# success,image = vidcap.read()\n",
    "# count = 0\n",
    "# while success:\n",
    "#     cv2.imwrite(os.path.join(save_dir, f\"frame {count}.jpg\"), image)\n",
    "#     success,image = vidcap.read()\n",
    "#     count += 1"
   ]
  },
  {
   "cell_type": "code",
   "execution_count": null,
   "metadata": {},
   "outputs": [
    {
     "name": "stdout",
     "output_type": "stream",
     "text": [
      "Start\n",
      "3.2246274948120117\n",
      "0\n",
      "2.393336534500122\n",
      "1\n",
      "2.3989689350128174\n",
      "2\n",
      "2.3941409587860107\n",
      "3\n",
      "2.399764060974121\n",
      "4\n",
      "2.397237777709961\n",
      "5\n",
      "2.400268793106079\n",
      "6\n"
     ]
    }
   ],
   "source": [
    "import tensorflow_hub as hub\n",
    "import tensorflow as tf\n",
    "import time # Debugging\n",
    "from PIL import Image\n",
    "import numpy as np\n",
    "\n",
    "\n",
    "def mkdir(path):\n",
    "    try:\n",
    "        os.mkdir(path)\n",
    "    except Exception as e:\n",
    "        pass\n",
    "    \n",
    "    \n",
    "def load_img(path_to_img):\n",
    "    max_dim = 512\n",
    "    img = tf.io.read_file(path_to_img)\n",
    "    img = tf.image.decode_image(img, channels=3)\n",
    "    img = tf.image.convert_image_dtype(img, tf.float32)\n",
    "\n",
    "    img = img[tf.newaxis, :]\n",
    "    return img\n",
    "\n",
    "\n",
    "def load_imgs(paths, style_img_path):\n",
    "    ori_imgs, style_imgs = tf.constant(load_img(paths[0])), tf.constant(load_img(style_img_path))\n",
    "\n",
    "    for path in paths[1:]:\n",
    "        ori_imgs = tf.concat([ori_imgs, load_img(path)], axis=0)\n",
    "        style_imgs = tf.concat([style_imgs, load_img(style_img_path)], axis=0)\n",
    "        \n",
    "    return ori_imgs, style_imgs\n",
    "        \n",
    "\n",
    "def save_imgs(imgs, count, save_dir):\n",
    "    count = count\n",
    "    for image in imgs:\n",
    "        image = np.array(image.numpy() * 255, dtype=np.uint8)\n",
    "        Image.fromarray(image).save(os.path.join(save_dir, f\"frame {count}.png\"))\n",
    "        count += 1 \n",
    "\n",
    "        \n",
    "def stylize_images(source_dir, style_img_path, save_dir=os.path.join(os.curdir, \"Stylized_Image\"), batch_size=10):\n",
    "    model = hub.load('https://tfhub.dev/google/magenta/arbitrary-image-stylization-v1-256/2')\n",
    "    imgs_path = [os.path.join(source_dir, f\"frame {count}.jpg\") for count in range(len(os.listdir(source_dir)))]\n",
    "    mkdir(save_dir)\n",
    "    \n",
    "    for i in range(int(len(os.listdir(source_dir))/batch_size)):\n",
    "        if i == len(os.listdir(save_dir)) -1:\n",
    "            ori_imgs, style_img = load_imgs(imgs_path[i*batch_size:], style_img_path)\n",
    "        else:\n",
    "            ori_imgs, style_img = load_imgs(imgs_path[i*batch_size:(i+1)*batch_size], style_img_path)\n",
    "\n",
    "        start = time.time()\n",
    "        stylized_image = model(ori_imgs, style_img)[0]\n",
    "        print(time.time() - start)\n",
    "        print(i)\n",
    "        save_imgs(stylized_image, i*batch_size, save_dir)\n",
    "    \n",
    "print(\"Start\")\n",
    "stylize_images(save_dir, 'style.jpg')"
   ]
  },
  {
   "cell_type": "code",
   "execution_count": null,
   "metadata": {},
   "outputs": [],
   "source": []
  }
 ],
 "metadata": {
  "kernelspec": {
   "display_name": "Python 3",
   "language": "python",
   "name": "python3"
  },
  "language_info": {
   "codemirror_mode": {
    "name": "ipython",
    "version": 3
   },
   "file_extension": ".py",
   "mimetype": "text/x-python",
   "name": "python",
   "nbconvert_exporter": "python",
   "pygments_lexer": "ipython3",
   "version": "3.6.9"
  }
 },
 "nbformat": 4,
 "nbformat_minor": 2
}
