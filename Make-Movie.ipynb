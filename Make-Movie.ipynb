{
 "cells": [
  {
   "cell_type": "code",
   "execution_count": 21,
   "metadata": {},
   "outputs": [],
   "source": [
    "import cv2\n",
    "import os"
   ]
  },
  {
   "cell_type": "code",
   "execution_count": 29,
   "metadata": {},
   "outputs": [
    {
     "name": "stdout",
     "output_type": "stream",
     "text": [
      "./Stylized_Image/frame 0.png\n",
      "Processed 0 Images\n",
      "Processed 1000 Images\n",
      "Processed 2000 Images\n",
      "Processed 3000 Images\n",
      "Processed 4000 Images\n",
      "Processed 5000 Images\n",
      "Processed 6000 Images\n",
      "Processed 7000 Images\n",
      "Processed 8000 Images\n",
      "Processed 9000 Images\n",
      "Processed 10000 Images\n",
      "Processed 11000 Images\n",
      "Processed 12000 Images\n",
      "Processed 13000 Images\n",
      "Processed 14000 Images\n",
      "Processed 15000 Images\n",
      "Processed 16000 Images\n",
      "Processed 17000 Images\n",
      "Processed 18000 Images\n",
      "Processed 19000 Images\n",
      "Processed 20000 Images\n",
      "Processed 21000 Images\n",
      "Processed 22000 Images\n"
     ]
    }
   ],
   "source": [
    "image_folder = os.path.join(os.curdir, 'Stylized_Image')\n",
    "video_name = 'video.mp4'\n",
    "\n",
    "images = [os.path.join(image_folder, f\"frame {count}.png\") for count in range(len(os.listdir(image_folder)))]\n",
    "print(images[0])\n",
    "frame = cv2.imread(images[0])\n",
    "height, width, layers = frame.shape\n",
    "\n",
    "fourcc = cv2.VideoWriter_fourcc('m', 'p', '4', 'v')\n",
    "video = cv2.VideoWriter(video_name, fourcc, 64, (width,height))\n",
    "\n",
    "count = 0\n",
    "for image in images:\n",
    "    video.write(cv2.imread(image))\n",
    "    if count % 1000 == 0:\n",
    "        print(f\"Processed {count} Images\")\n",
    "    count += 1\n",
    "\n",
    "cv2.destroyAllWindows()\n",
    "video.release()"
   ]
  },
  {
   "cell_type": "code",
   "execution_count": null,
   "metadata": {},
   "outputs": [],
   "source": []
  }
 ],
 "metadata": {
  "kernelspec": {
   "display_name": "Python 3",
   "language": "python",
   "name": "python3"
  },
  "language_info": {
   "codemirror_mode": {
    "name": "ipython",
    "version": 3
   },
   "file_extension": ".py",
   "mimetype": "text/x-python",
   "name": "python",
   "nbconvert_exporter": "python",
   "pygments_lexer": "ipython3",
   "version": "3.6.9"
  }
 },
 "nbformat": 4,
 "nbformat_minor": 2
}
